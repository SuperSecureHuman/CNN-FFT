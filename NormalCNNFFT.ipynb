{
 "cells": [
  {
   "cell_type": "code",
   "execution_count": 1,
   "id": "bbfee2a8",
   "metadata": {},
   "outputs": [
    {
     "name": "stderr",
     "output_type": "stream",
     "text": [
      "2022-08-04 09:00:06.583941: I tensorflow/core/util/util.cc:169] oneDNN custom operations are on. You may see slightly different numerical results due to floating-point round-off errors from different computation orders. To turn them off, set the environment variable `TF_ENABLE_ONEDNN_OPTS=0`.\n"
     ]
    }
   ],
   "source": [
    "#Import libs\n",
    "import tensorflow as tf\n",
    "import numpy as np\n",
    "import matplotlib.pyplot as plt"
   ]
  },
  {
   "cell_type": "code",
   "execution_count": 2,
   "id": "ed55688f",
   "metadata": {},
   "outputs": [],
   "source": [
    "# Load Cifar-10 data-set\n",
    "(train_im, train_lab), (test_im, test_lab) = tf.keras.datasets.cifar10.load_data()"
   ]
  },
  {
   "cell_type": "code",
   "execution_count": 3,
   "id": "6e489fd0",
   "metadata": {},
   "outputs": [
    {
     "name": "stdout",
     "output_type": "stream",
     "text": [
      "train_im, train_lab types:  <class 'numpy.ndarray'> <class 'numpy.ndarray'>\n",
      "shape of images and labels array:  (50000, 32, 32, 3) (50000, 1)\n",
      "shape of images and labels array ; test:  (10000, 32, 32, 3) (10000, 1)\n"
     ]
    }
   ],
   "source": [
    "#### Normalize the images to pixel values (0, 1)\n",
    "train_im, test_im = train_im/255.0 , test_im/255.0\n",
    "#### Check the format of the data \n",
    "print (\"train_im, train_lab types: \", type(train_im), type(train_lab))\n",
    "#### check the shape of the data\n",
    "print (\"shape of images and labels array: \", train_im.shape, train_lab.shape) \n",
    "print (\"shape of images and labels array ; test: \", test_im.shape, test_lab.shape)"
   ]
  },
  {
   "cell_type": "code",
   "execution_count": 4,
   "id": "61db8652",
   "metadata": {},
   "outputs": [],
   "source": [
    "### One hot encoding for labels \n",
    "\n",
    "train_lab_categorical = tf.keras.utils.to_categorical(\n",
    "    train_lab, num_classes=10, dtype='uint8')\n",
    "\n",
    "test_lab_categorical = tf.keras.utils.to_categorical(\n",
    "    test_lab, num_classes=10, dtype='uint8')"
   ]
  },
  {
   "cell_type": "code",
   "execution_count": 5,
   "id": "5c1f5552",
   "metadata": {},
   "outputs": [],
   "source": [
    "#from tensorflow.signal import fft2d\n",
    "#from tensorflow.math import real, imag\n",
    "\n",
    "from scipy.fftpack import fft2, ifft2\n"
   ]
  },
  {
   "cell_type": "code",
   "execution_count": 6,
   "id": "b924bb90",
   "metadata": {},
   "outputs": [],
   "source": [
    "#New plane for the images\n",
    "#FFT the image with tensorflow\n",
    "#Then create 2 new variables for the real and imaginary parts of the image\n",
    "#Then convert the output arrays to numpy arrays\n",
    "\n",
    "def convert_to_fft(dataset):\n",
    "    temp = fft2(dataset)\n",
    "    real_temp = np.real(temp)\n",
    "    imag_temp = np.imag(temp)\n",
    "    return real_temp, imag_temp"
   ]
  },
  {
   "cell_type": "code",
   "execution_count": 7,
   "id": "4e378065",
   "metadata": {},
   "outputs": [],
   "source": [
    "train_fft = np.concatenate(convert_to_fft(train_im), axis=3)\n",
    "test_fft = np.concatenate(convert_to_fft(test_im), axis=3)\n"
   ]
  },
  {
   "cell_type": "code",
   "execution_count": 8,
   "id": "838bc937",
   "metadata": {},
   "outputs": [
    {
     "name": "stderr",
     "output_type": "stream",
     "text": [
      "2022-08-04 09:00:13.901958: I tensorflow/stream_executor/cuda/cuda_gpu_executor.cc:975] successful NUMA node read from SysFS had negative value (-1), but there must be at least one NUMA node, so returning NUMA node zero\n",
      "2022-08-04 09:00:13.964128: I tensorflow/stream_executor/cuda/cuda_gpu_executor.cc:975] successful NUMA node read from SysFS had negative value (-1), but there must be at least one NUMA node, so returning NUMA node zero\n",
      "2022-08-04 09:00:13.964390: I tensorflow/stream_executor/cuda/cuda_gpu_executor.cc:975] successful NUMA node read from SysFS had negative value (-1), but there must be at least one NUMA node, so returning NUMA node zero\n",
      "2022-08-04 09:00:13.965173: I tensorflow/core/platform/cpu_feature_guard.cc:193] This TensorFlow binary is optimized with oneAPI Deep Neural Network Library (oneDNN) to use the following CPU instructions in performance-critical operations:  AVX2 AVX512F AVX512_VNNI FMA\n",
      "To enable them in other operations, rebuild TensorFlow with the appropriate compiler flags.\n",
      "2022-08-04 09:00:13.968108: I tensorflow/stream_executor/cuda/cuda_gpu_executor.cc:975] successful NUMA node read from SysFS had negative value (-1), but there must be at least one NUMA node, so returning NUMA node zero\n",
      "2022-08-04 09:00:13.968386: I tensorflow/stream_executor/cuda/cuda_gpu_executor.cc:975] successful NUMA node read from SysFS had negative value (-1), but there must be at least one NUMA node, so returning NUMA node zero\n",
      "2022-08-04 09:00:13.968590: I tensorflow/stream_executor/cuda/cuda_gpu_executor.cc:975] successful NUMA node read from SysFS had negative value (-1), but there must be at least one NUMA node, so returning NUMA node zero\n",
      "2022-08-04 09:00:14.333055: I tensorflow/stream_executor/cuda/cuda_gpu_executor.cc:975] successful NUMA node read from SysFS had negative value (-1), but there must be at least one NUMA node, so returning NUMA node zero\n",
      "2022-08-04 09:00:14.333228: I tensorflow/stream_executor/cuda/cuda_gpu_executor.cc:975] successful NUMA node read from SysFS had negative value (-1), but there must be at least one NUMA node, so returning NUMA node zero\n",
      "2022-08-04 09:00:14.333324: I tensorflow/stream_executor/cuda/cuda_gpu_executor.cc:975] successful NUMA node read from SysFS had negative value (-1), but there must be at least one NUMA node, so returning NUMA node zero\n",
      "2022-08-04 09:00:14.333454: I tensorflow/core/common_runtime/gpu/gpu_device.cc:1532] Created device /job:localhost/replica:0/task:0/device:GPU:0 with 4134 MB memory:  -> device: 0, name: NVIDIA GeForce RTX 3060 Laptop GPU, pci bus id: 0000:01:00.0, compute capability: 8.6\n"
     ]
    }
   ],
   "source": [
    "# Create the model\n",
    "model = tf.keras.models.Sequential()\n",
    "\n",
    "# Add the convolutional layers\n",
    "# input shape is 32x32x6 (32x32 is the size of the image, 6 is the number of \"color\" channels)\n",
    "\n",
    "model.add(tf.keras.layers.Conv2D(32, (3, 3), activation='relu', input_shape=(32, 32, 6)))\n",
    "model.add(tf.keras.layers.MaxPooling2D(pool_size=(2, 2)))\n",
    "model.add(tf.keras.layers.Conv2D(64, (3, 3), activation='relu'))\n",
    "model.add(tf.keras.layers.MaxPooling2D(pool_size=(2, 2)))\n",
    "model.add(tf.keras.layers.Conv2D(64, (3, 3), activation='relu'))\n",
    "# Add the fully connected layers\n",
    "model.add(tf.keras.layers.Flatten())\n",
    "model.add(tf.keras.layers.Dense(64, activation='relu'))\n",
    "model.add(tf.keras.layers.Dense(10, activation='softmax'))\n",
    "model.add(tf.keras.layers.Flatten())\n"
   ]
  },
  {
   "cell_type": "code",
   "execution_count": 9,
   "id": "2c09ff2d",
   "metadata": {},
   "outputs": [],
   "source": [
    "# Compile the model\n",
    "model.compile(optimizer='adam',\n",
    "                loss='categorical_crossentropy',\n",
    "                metrics=['accuracy'])\n",
    "                "
   ]
  },
  {
   "cell_type": "code",
   "execution_count": 10,
   "id": "971cb4d8",
   "metadata": {},
   "outputs": [
    {
     "data": {
      "text/plain": [
       "(50000, 10)"
      ]
     },
     "execution_count": 10,
     "metadata": {},
     "output_type": "execute_result"
    }
   ],
   "source": [
    "np.shape(train_lab_categorical)"
   ]
  },
  {
   "cell_type": "code",
   "execution_count": 11,
   "id": "3cb73e10",
   "metadata": {},
   "outputs": [
    {
     "name": "stdout",
     "output_type": "stream",
     "text": [
      "Epoch 1/20\n"
     ]
    },
    {
     "name": "stderr",
     "output_type": "stream",
     "text": [
      "2022-08-04 09:00:16.896768: I tensorflow/stream_executor/cuda/cuda_dnn.cc:384] Loaded cuDNN version 8400\n",
      "2022-08-04 09:00:17.855162: I tensorflow/core/platform/default/subprocess.cc:304] Start cannot spawn child process: No such file or directory\n",
      "2022-08-04 09:00:17.935054: I tensorflow/stream_executor/cuda/cuda_blas.cc:1786] TensorFloat-32 will be used for the matrix multiplication. This will only be logged once.\n"
     ]
    },
    {
     "name": "stdout",
     "output_type": "stream",
     "text": [
      "3125/3125 [==============================] - 19s 5ms/step - loss: 1.3527 - accuracy: 0.5228 - val_loss: 1.1153 - val_accuracy: 0.6114\n",
      "Epoch 2/20\n",
      "3125/3125 [==============================] - 16s 5ms/step - loss: 1.0173 - accuracy: 0.6430 - val_loss: 0.9399 - val_accuracy: 0.6715\n",
      "Epoch 3/20\n",
      "3125/3125 [==============================] - 16s 5ms/step - loss: 0.9142 - accuracy: 0.6783 - val_loss: 0.9490 - val_accuracy: 0.6704\n",
      "Epoch 4/20\n",
      "3125/3125 [==============================] - 16s 5ms/step - loss: 0.8469 - accuracy: 0.7015 - val_loss: 0.8945 - val_accuracy: 0.6846\n",
      "Epoch 5/20\n",
      "3125/3125 [==============================] - 16s 5ms/step - loss: 0.7939 - accuracy: 0.7217 - val_loss: 0.9241 - val_accuracy: 0.6829\n",
      "Epoch 6/20\n",
      "3125/3125 [==============================] - 17s 5ms/step - loss: 0.7528 - accuracy: 0.7349 - val_loss: 0.9202 - val_accuracy: 0.6871\n",
      "Epoch 7/20\n",
      "3125/3125 [==============================] - 17s 5ms/step - loss: 0.7129 - accuracy: 0.7475 - val_loss: 0.8975 - val_accuracy: 0.6944\n",
      "Epoch 8/20\n",
      "3125/3125 [==============================] - 17s 5ms/step - loss: 0.6768 - accuracy: 0.7598 - val_loss: 0.9154 - val_accuracy: 0.6953\n",
      "Epoch 9/20\n",
      "3125/3125 [==============================] - 17s 5ms/step - loss: 0.6355 - accuracy: 0.7744 - val_loss: 0.9772 - val_accuracy: 0.6933\n",
      "Epoch 10/20\n",
      "3125/3125 [==============================] - 17s 5ms/step - loss: 0.6105 - accuracy: 0.7840 - val_loss: 0.9952 - val_accuracy: 0.6820\n",
      "Epoch 11/20\n",
      "3125/3125 [==============================] - 17s 5ms/step - loss: 0.5793 - accuracy: 0.7957 - val_loss: 0.9605 - val_accuracy: 0.6932\n",
      "Epoch 12/20\n",
      "3125/3125 [==============================] - 17s 5ms/step - loss: 0.5468 - accuracy: 0.8054 - val_loss: 1.0222 - val_accuracy: 0.6813\n",
      "Epoch 13/20\n",
      "3125/3125 [==============================] - 17s 6ms/step - loss: 0.5232 - accuracy: 0.8124 - val_loss: 1.0395 - val_accuracy: 0.6823\n",
      "Epoch 14/20\n",
      "3125/3125 [==============================] - 17s 5ms/step - loss: 0.4913 - accuracy: 0.8231 - val_loss: 1.1252 - val_accuracy: 0.6822\n",
      "Epoch 15/20\n",
      "3125/3125 [==============================] - 17s 5ms/step - loss: 0.4763 - accuracy: 0.8282 - val_loss: 1.0829 - val_accuracy: 0.6851\n",
      "Epoch 16/20\n",
      "3125/3125 [==============================] - 16s 5ms/step - loss: 0.4509 - accuracy: 0.8379 - val_loss: 1.2088 - val_accuracy: 0.6722\n",
      "Epoch 17/20\n",
      "3125/3125 [==============================] - 16s 5ms/step - loss: 0.4281 - accuracy: 0.8448 - val_loss: 1.2041 - val_accuracy: 0.6826\n",
      "Epoch 18/20\n",
      "3125/3125 [==============================] - 16s 5ms/step - loss: 0.4063 - accuracy: 0.8537 - val_loss: 1.3145 - val_accuracy: 0.6738\n",
      "Epoch 19/20\n",
      "3125/3125 [==============================] - 16s 5ms/step - loss: 0.3929 - accuracy: 0.8592 - val_loss: 1.3434 - val_accuracy: 0.6702\n",
      "Epoch 20/20\n",
      "3125/3125 [==============================] - 16s 5ms/step - loss: 0.3730 - accuracy: 0.8661 - val_loss: 1.3578 - val_accuracy: 0.6682\n"
     ]
    },
    {
     "data": {
      "text/plain": [
       "<keras.callbacks.History at 0x7f018f2f2fd0>"
      ]
     },
     "execution_count": 11,
     "metadata": {},
     "output_type": "execute_result"
    },
    {
     "ename": "",
     "evalue": "",
     "output_type": "error",
     "traceback": [
      "\u001b[1;31mThe Kernel crashed while executing code in the the current cell or a previous cell. Please review the code in the cell(s) to identify a possible cause of the failure. Click <a href='https://aka.ms/vscodeJupyterKernelCrash'>here</a> for more info. View Jupyter <a href='command:jupyter.viewOutput'>log</a> for further details."
     ]
    }
   ],
   "source": [
    "# Train the model\n",
    "model.fit(train_fft, train_lab_categorical, epochs=20, batch_size=16, validation_data=(test_fft, test_lab_categorical), workers=4)"
   ]
  }
 ],
 "metadata": {
  "kernelspec": {
   "display_name": "Python 3.8.13 ('base')",
   "language": "python",
   "name": "python3"
  },
  "language_info": {
   "codemirror_mode": {
    "name": "ipython",
    "version": 3
   },
   "file_extension": ".py",
   "mimetype": "text/x-python",
   "name": "python",
   "nbconvert_exporter": "python",
   "pygments_lexer": "ipython3",
   "version": "3.8.13 (default, Mar 28 2022, 11:38:47) \n[GCC 7.5.0]"
  },
  "vscode": {
   "interpreter": {
    "hash": "f401cf1dbab24df559ae8789ef7eacae25a0fecff741eceb08aecb7249ab0875"
   }
  }
 },
 "nbformat": 4,
 "nbformat_minor": 5
}
