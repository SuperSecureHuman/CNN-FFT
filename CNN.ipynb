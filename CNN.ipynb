{
 "cells": [
  {
   "cell_type": "code",
   "execution_count": 1,
   "metadata": {},
   "outputs": [
    {
     "name": "stderr",
     "output_type": "stream",
     "text": [
      "2022-08-04 09:10:59.956525: I tensorflow/core/util/util.cc:169] oneDNN custom operations are on. You may see slightly different numerical results due to floating-point round-off errors from different computation orders. To turn them off, set the environment variable `TF_ENABLE_ONEDNN_OPTS=0`.\n"
     ]
    }
   ],
   "source": [
    "#Import libs\n",
    "\n",
    "import tensorflow as tf\n",
    "import numpy as np\n",
    "import matplotlib.pyplot as plt\n"
   ]
  },
  {
   "cell_type": "code",
   "execution_count": 2,
   "id": "ed55688f",
   "metadata": {},
   "outputs": [],
   "source": [
    "# Load Cifar-10 data-set\n",
    "(train_im, train_lab), (test_im, test_lab) = tf.keras.datasets.cifar10.load_data()"
   ]
  },
  {
   "cell_type": "code",
   "execution_count": 3,
   "id": "6e489fd0",
   "metadata": {},
   "outputs": [
    {
     "name": "stdout",
     "output_type": "stream",
     "text": [
      "train_im, train_lab types:  <class 'numpy.ndarray'> <class 'numpy.ndarray'>\n",
      "shape of images and labels array:  (50000, 32, 32, 3) (50000, 1)\n",
      "shape of images and labels array ; test:  (10000, 32, 32, 3) (10000, 1)\n"
     ]
    }
   ],
   "source": [
    "#### Normalize the images to pixel values (0, 1)\n",
    "train_im, test_im = train_im/255.0 , test_im/255.0\n",
    "#### Check the format of the data \n",
    "print (\"train_im, train_lab types: \", type(train_im), type(train_lab))\n",
    "#### check the shape of the data\n",
    "print (\"shape of images and labels array: \", train_im.shape, train_lab.shape) \n",
    "print (\"shape of images and labels array ; test: \", test_im.shape, test_lab.shape)"
   ]
  },
  {
   "cell_type": "code",
   "execution_count": 4,
   "id": "61db8652",
   "metadata": {},
   "outputs": [],
   "source": [
    "### One hot encoding for labels \n",
    "\n",
    "train_lab_categorical = tf.keras.utils.to_categorical(\n",
    "    train_lab, num_classes=10, dtype='uint8')\n",
    "\n",
    "test_lab_categorical = tf.keras.utils.to_categorical(\n",
    "    test_lab, num_classes=10, dtype='uint8')"
   ]
  },
  {
   "cell_type": "code",
   "execution_count": 5,
   "id": "838bc937",
   "metadata": {},
   "outputs": [
    {
     "name": "stderr",
     "output_type": "stream",
     "text": [
      "2022-08-04 09:11:03.688050: I tensorflow/stream_executor/cuda/cuda_gpu_executor.cc:975] successful NUMA node read from SysFS had negative value (-1), but there must be at least one NUMA node, so returning NUMA node zero\n",
      "2022-08-04 09:11:03.768802: I tensorflow/stream_executor/cuda/cuda_gpu_executor.cc:975] successful NUMA node read from SysFS had negative value (-1), but there must be at least one NUMA node, so returning NUMA node zero\n",
      "2022-08-04 09:11:03.769095: I tensorflow/stream_executor/cuda/cuda_gpu_executor.cc:975] successful NUMA node read from SysFS had negative value (-1), but there must be at least one NUMA node, so returning NUMA node zero\n",
      "2022-08-04 09:11:03.769976: I tensorflow/core/platform/cpu_feature_guard.cc:193] This TensorFlow binary is optimized with oneAPI Deep Neural Network Library (oneDNN) to use the following CPU instructions in performance-critical operations:  AVX2 AVX512F AVX512_VNNI FMA\n",
      "To enable them in other operations, rebuild TensorFlow with the appropriate compiler flags.\n",
      "2022-08-04 09:11:03.773174: I tensorflow/stream_executor/cuda/cuda_gpu_executor.cc:975] successful NUMA node read from SysFS had negative value (-1), but there must be at least one NUMA node, so returning NUMA node zero\n",
      "2022-08-04 09:11:03.773478: I tensorflow/stream_executor/cuda/cuda_gpu_executor.cc:975] successful NUMA node read from SysFS had negative value (-1), but there must be at least one NUMA node, so returning NUMA node zero\n",
      "2022-08-04 09:11:03.773699: I tensorflow/stream_executor/cuda/cuda_gpu_executor.cc:975] successful NUMA node read from SysFS had negative value (-1), but there must be at least one NUMA node, so returning NUMA node zero\n",
      "2022-08-04 09:11:04.365424: I tensorflow/stream_executor/cuda/cuda_gpu_executor.cc:975] successful NUMA node read from SysFS had negative value (-1), but there must be at least one NUMA node, so returning NUMA node zero\n",
      "2022-08-04 09:11:04.365590: I tensorflow/stream_executor/cuda/cuda_gpu_executor.cc:975] successful NUMA node read from SysFS had negative value (-1), but there must be at least one NUMA node, so returning NUMA node zero\n",
      "2022-08-04 09:11:04.365677: I tensorflow/stream_executor/cuda/cuda_gpu_executor.cc:975] successful NUMA node read from SysFS had negative value (-1), but there must be at least one NUMA node, so returning NUMA node zero\n",
      "2022-08-04 09:11:04.365760: I tensorflow/core/common_runtime/gpu/gpu_device.cc:1532] Created device /job:localhost/replica:0/task:0/device:GPU:0 with 4134 MB memory:  -> device: 0, name: NVIDIA GeForce RTX 3060 Laptop GPU, pci bus id: 0000:01:00.0, compute capability: 8.6\n"
     ]
    }
   ],
   "source": [
    "# Create the model\n",
    "model = tf.keras.models.Sequential()\n",
    "\n",
    "# Add the convolutional layers\n",
    "# input shape is 32x32x6 (32x32 is the size of the image, 6 is the number of \"color\" channels)\n",
    "\n",
    "model.add(tf.keras.layers.Conv2D(32, (3, 3), activation='relu', input_shape=(32, 32, 3)))\n",
    "model.add(tf.keras.layers.MaxPooling2D(pool_size=(2, 2)))\n",
    "model.add(tf.keras.layers.Conv2D(64, (3, 3), activation='relu'))\n",
    "model.add(tf.keras.layers.MaxPooling2D(pool_size=(2, 2)))\n",
    "model.add(tf.keras.layers.Conv2D(64, (3, 3), activation='relu'))\n",
    "# Add the fully connected layers\n",
    "model.add(tf.keras.layers.Flatten())\n",
    "model.add(tf.keras.layers.Dense(64, activation='relu'))\n",
    "model.add(tf.keras.layers.Dense(10, activation='softmax'))\n",
    "model.add(tf.keras.layers.Flatten())\n"
   ]
  },
  {
   "cell_type": "code",
   "execution_count": 6,
   "id": "2c09ff2d",
   "metadata": {},
   "outputs": [],
   "source": [
    "# Compile the model\n",
    "model.compile(optimizer='adam',\n",
    "                loss='categorical_crossentropy',\n",
    "                metrics=['accuracy'])\n",
    "                "
   ]
  },
  {
   "cell_type": "code",
   "execution_count": 7,
   "id": "3cb73e10",
   "metadata": {},
   "outputs": [
    {
     "name": "stdout",
     "output_type": "stream",
     "text": [
      "Epoch 1/20\n"
     ]
    },
    {
     "name": "stderr",
     "output_type": "stream",
     "text": [
      "2022-08-04 09:11:07.431858: I tensorflow/stream_executor/cuda/cuda_dnn.cc:384] Loaded cuDNN version 8400\n",
      "2022-08-04 09:11:09.121181: I tensorflow/core/platform/default/subprocess.cc:304] Start cannot spawn child process: No such file or directory\n",
      "2022-08-04 09:11:09.204698: I tensorflow/stream_executor/cuda/cuda_blas.cc:1786] TensorFloat-32 will be used for the matrix multiplication. This will only be logged once.\n"
     ]
    },
    {
     "name": "stdout",
     "output_type": "stream",
     "text": [
      "3125/3125 [==============================] - 21s 5ms/step - loss: 1.4655 - accuracy: 0.4705 - val_loss: 1.1963 - val_accuracy: 0.5619\n",
      "Epoch 2/20\n",
      "3125/3125 [==============================] - 17s 5ms/step - loss: 1.0938 - accuracy: 0.6121 - val_loss: 1.0664 - val_accuracy: 0.6273\n",
      "Epoch 3/20\n",
      "3125/3125 [==============================] - 16s 5ms/step - loss: 0.9461 - accuracy: 0.6677 - val_loss: 0.9519 - val_accuracy: 0.6667\n",
      "Epoch 4/20\n",
      "3125/3125 [==============================] - 17s 5ms/step - loss: 0.8500 - accuracy: 0.7033 - val_loss: 0.9393 - val_accuracy: 0.6759\n",
      "Epoch 5/20\n",
      "3125/3125 [==============================] - 17s 5ms/step - loss: 0.7762 - accuracy: 0.7286 - val_loss: 0.8793 - val_accuracy: 0.7037\n",
      "Epoch 6/20\n",
      "3125/3125 [==============================] - 17s 5ms/step - loss: 0.7106 - accuracy: 0.7498 - val_loss: 0.8661 - val_accuracy: 0.7053\n",
      "Epoch 7/20\n",
      "3125/3125 [==============================] - 17s 5ms/step - loss: 0.6566 - accuracy: 0.7711 - val_loss: 0.9000 - val_accuracy: 0.7057\n",
      "Epoch 8/20\n",
      "3125/3125 [==============================] - 16s 5ms/step - loss: 0.6049 - accuracy: 0.7878 - val_loss: 0.9168 - val_accuracy: 0.7020\n",
      "Epoch 9/20\n",
      "3125/3125 [==============================] - 17s 5ms/step - loss: 0.5607 - accuracy: 0.8044 - val_loss: 0.9607 - val_accuracy: 0.7048\n",
      "Epoch 10/20\n",
      "3125/3125 [==============================] - 17s 5ms/step - loss: 0.5259 - accuracy: 0.8142 - val_loss: 0.9624 - val_accuracy: 0.7130\n",
      "Epoch 11/20\n",
      "3125/3125 [==============================] - 17s 5ms/step - loss: 0.4896 - accuracy: 0.8270 - val_loss: 0.9568 - val_accuracy: 0.7118\n",
      "Epoch 12/20\n",
      "3125/3125 [==============================] - 17s 6ms/step - loss: 0.4554 - accuracy: 0.8401 - val_loss: 0.9923 - val_accuracy: 0.7172\n",
      "Epoch 13/20\n",
      "3125/3125 [==============================] - 17s 5ms/step - loss: 0.4272 - accuracy: 0.8472 - val_loss: 1.0383 - val_accuracy: 0.6961\n",
      "Epoch 14/20\n",
      "3125/3125 [==============================] - 17s 5ms/step - loss: 0.3964 - accuracy: 0.8596 - val_loss: 1.1026 - val_accuracy: 0.7042\n",
      "Epoch 15/20\n",
      "3125/3125 [==============================] - 17s 5ms/step - loss: 0.3749 - accuracy: 0.8667 - val_loss: 1.1011 - val_accuracy: 0.6964\n",
      "Epoch 16/20\n",
      "3125/3125 [==============================] - 17s 5ms/step - loss: 0.3495 - accuracy: 0.8761 - val_loss: 1.2212 - val_accuracy: 0.7001\n",
      "Epoch 17/20\n",
      "3125/3125 [==============================] - 17s 5ms/step - loss: 0.3258 - accuracy: 0.8843 - val_loss: 1.3114 - val_accuracy: 0.6890\n",
      "Epoch 18/20\n",
      "3125/3125 [==============================] - 17s 6ms/step - loss: 0.3143 - accuracy: 0.8887 - val_loss: 1.3254 - val_accuracy: 0.6920\n",
      "Epoch 19/20\n",
      "3125/3125 [==============================] - 17s 5ms/step - loss: 0.2928 - accuracy: 0.8965 - val_loss: 1.3491 - val_accuracy: 0.6984\n",
      "Epoch 20/20\n",
      "3125/3125 [==============================] - 17s 5ms/step - loss: 0.2789 - accuracy: 0.9003 - val_loss: 1.4433 - val_accuracy: 0.6915\n"
     ]
    },
    {
     "data": {
      "text/plain": [
       "<keras.callbacks.History at 0x7f2faf6cb580>"
      ]
     },
     "execution_count": 7,
     "metadata": {},
     "output_type": "execute_result"
    }
   ],
   "source": [
    "#loss: 0.3730 - accuracy: 0.8661 - val_loss: 1.3578 - val_accuracy: 0.6682\n",
    "\n",
    "# Train the model\n",
    "model.fit(train_im, train_lab_categorical, epochs=20, batch_size=16, validation_data=(test_im, test_lab_categorical))"
   ]
  }
 ],
 "metadata": {
  "kernelspec": {
   "display_name": "Python 3.8.13 ('base')",
   "language": "python",
   "name": "python3"
  },
  "language_info": {
   "codemirror_mode": {
    "name": "ipython",
    "version": 3
   },
   "file_extension": ".py",
   "mimetype": "text/x-python",
   "name": "python",
   "nbconvert_exporter": "python",
   "pygments_lexer": "ipython3",
   "version": "3.8.13 (default, Mar 28 2022, 11:38:47) \n[GCC 7.5.0]"
  },
  "orig_nbformat": 4,
  "vscode": {
   "interpreter": {
    "hash": "f401cf1dbab24df559ae8789ef7eacae25a0fecff741eceb08aecb7249ab0875"
   }
  }
 },
 "nbformat": 4,
 "nbformat_minor": 2
}
